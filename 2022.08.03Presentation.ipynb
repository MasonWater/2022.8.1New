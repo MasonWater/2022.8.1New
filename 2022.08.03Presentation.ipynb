{
 "cells": [
  {
   "cell_type": "code",
   "execution_count": 98,
   "metadata": {},
   "outputs": [
    {
     "data": {
      "text/html": [
       "<div>\n",
       "<style scoped>\n",
       "    .dataframe tbody tr th:only-of-type {\n",
       "        vertical-align: middle;\n",
       "    }\n",
       "\n",
       "    .dataframe tbody tr th {\n",
       "        vertical-align: top;\n",
       "    }\n",
       "\n",
       "    .dataframe thead th {\n",
       "        text-align: right;\n",
       "    }\n",
       "</style>\n",
       "<table border=\"1\" class=\"dataframe\">\n",
       "  <thead>\n",
       "    <tr style=\"text-align: right;\">\n",
       "      <th></th>\n",
       "      <th>Date</th>\n",
       "      <th>China</th>\n",
       "      <th>UK</th>\n",
       "      <th>Days</th>\n",
       "    </tr>\n",
       "  </thead>\n",
       "  <tbody>\n",
       "    <tr>\n",
       "      <th>2614</th>\n",
       "      <td>1981-01-02</td>\n",
       "      <td>1.5341</td>\n",
       "      <td>2.3820</td>\n",
       "      <td>0</td>\n",
       "    </tr>\n",
       "    <tr>\n",
       "      <th>2615</th>\n",
       "      <td>1981-01-05</td>\n",
       "      <td>1.5418</td>\n",
       "      <td>2.4155</td>\n",
       "      <td>3</td>\n",
       "    </tr>\n",
       "    <tr>\n",
       "      <th>2616</th>\n",
       "      <td>1981-01-06</td>\n",
       "      <td>1.5264</td>\n",
       "      <td>2.4225</td>\n",
       "      <td>4</td>\n",
       "    </tr>\n",
       "    <tr>\n",
       "      <th>2617</th>\n",
       "      <td>1981-01-07</td>\n",
       "      <td>1.5264</td>\n",
       "      <td>2.4115</td>\n",
       "      <td>5</td>\n",
       "    </tr>\n",
       "    <tr>\n",
       "      <th>2618</th>\n",
       "      <td>1981-01-08</td>\n",
       "      <td>1.5264</td>\n",
       "      <td>2.4035</td>\n",
       "      <td>6</td>\n",
       "    </tr>\n",
       "    <tr>\n",
       "      <th>...</th>\n",
       "      <td>...</td>\n",
       "      <td>...</td>\n",
       "      <td>...</td>\n",
       "      <td>...</td>\n",
       "    </tr>\n",
       "    <tr>\n",
       "      <th>12170</th>\n",
       "      <td>2017-08-21</td>\n",
       "      <td>6.6630</td>\n",
       "      <td>1.2903</td>\n",
       "      <td>13380</td>\n",
       "    </tr>\n",
       "    <tr>\n",
       "      <th>12171</th>\n",
       "      <td>2017-08-22</td>\n",
       "      <td>6.6600</td>\n",
       "      <td>1.2834</td>\n",
       "      <td>13381</td>\n",
       "    </tr>\n",
       "    <tr>\n",
       "      <th>12172</th>\n",
       "      <td>2017-08-23</td>\n",
       "      <td>6.6569</td>\n",
       "      <td>1.2787</td>\n",
       "      <td>13382</td>\n",
       "    </tr>\n",
       "    <tr>\n",
       "      <th>12173</th>\n",
       "      <td>2017-08-24</td>\n",
       "      <td>6.6600</td>\n",
       "      <td>1.2802</td>\n",
       "      <td>13383</td>\n",
       "    </tr>\n",
       "    <tr>\n",
       "      <th>12174</th>\n",
       "      <td>2017-08-25</td>\n",
       "      <td>6.6465</td>\n",
       "      <td>1.2873</td>\n",
       "      <td>13384</td>\n",
       "    </tr>\n",
       "  </tbody>\n",
       "</table>\n",
       "<p>9148 rows × 4 columns</p>\n",
       "</div>"
      ],
      "text/plain": [
       "             Date   China      UK   Days\n",
       "2614   1981-01-02  1.5341  2.3820      0\n",
       "2615   1981-01-05  1.5418  2.4155      3\n",
       "2616   1981-01-06  1.5264  2.4225      4\n",
       "2617   1981-01-07  1.5264  2.4115      5\n",
       "2618   1981-01-08  1.5264  2.4035      6\n",
       "...           ...     ...     ...    ...\n",
       "12170  2017-08-21  6.6630  1.2903  13380\n",
       "12171  2017-08-22  6.6600  1.2834  13381\n",
       "12172  2017-08-23  6.6569  1.2787  13382\n",
       "12173  2017-08-24  6.6600  1.2802  13383\n",
       "12174  2017-08-25  6.6465  1.2873  13384\n",
       "\n",
       "[9148 rows x 4 columns]"
      ]
     },
     "execution_count": 98,
     "metadata": {},
     "output_type": "execute_result"
    }
   ],
   "source": [
    "import pandas as pd\n",
    "import numpy as np\n",
    "import matplotlib.pyplot as plt\n",
    "%matplotlib inline\n",
    "\n",
    "df = pd.read_csv('C:/Users/Administrator/Desktop/gitCourse/2022.8.1New/exchange_rates.csv')\n",
    "columsList=[colum for colum in df]\n",
    "columsList\n",
    "df_China=df[[columsList[0],columsList[4],columsList[2]]]\n",
    "df_China=df_China.drop(labels=range(5))\n",
    "df_China=df_China.dropna()\n",
    "df_China['Time Index']=(pd.to_datetime(df_China[columsList[0]])-pd.to_datetime('1981-01-02')).dt.days\n",
    "columsList=[colum for colum in df_China]\n",
    "df_China[columsList[1]]=df_China[columsList[1]].str.replace('ND',\"\")\n",
    "df_China[columsList[2]]=df_China[columsList[2]].str.replace('ND',\"\")\n",
    "\n",
    "df_China[columsList[1]]=pd.to_numeric(df_China[columsList[1]])\n",
    "df_China[columsList[2]]=pd.to_numeric(df_China[columsList[2]])\n",
    "df_China=df_China.dropna()\n",
    "df_China.columns=[\"Date\",\"China\",\"UK\",\"Days\"]\n",
    "columsList=[colum for colum in df_China]\n",
    "\n",
    "df_China\n",
    "\n",
    "#df_china\n",
    "#from pandas.plotting import scatter_matrix\n",
    "#scatter_matrix(df)"
   ]
  },
  {
   "cell_type": "code",
   "execution_count": 34,
   "metadata": {},
   "outputs": [],
   "source": [
    "#from pandas.plotting import scatter_matrix\n",
    "#scatter_matrix(df_China)"
   ]
  },
  {
   "cell_type": "code",
   "execution_count": 103,
   "metadata": {},
   "outputs": [
    {
     "data": {
      "text/plain": [
       "LinearRegression(copy_X=True, fit_intercept=True, n_jobs=None, normalize=False)"
      ]
     },
     "execution_count": 103,
     "metadata": {},
     "output_type": "execute_result"
    }
   ],
   "source": [
    "from sklearn.linear_model import LinearRegression\n",
    "from sklearn.model_selection import train_test_split\n",
    "model = LinearRegression()\n",
    "\n",
    "X = df_China[['Days']]\n",
    "y=df_China[columsList[1]]\n",
    "X_train,X_test,y_train,y_test=train_test_split(X,y,test_size=0.2)\n",
    "model.fit(X_train,y_train)"
   ]
  },
  {
   "cell_type": "code",
   "execution_count": 104,
   "metadata": {},
   "outputs": [
    {
     "data": {
      "text/plain": [
       "[<matplotlib.lines.Line2D at 0x83611b7cf8>]"
      ]
     },
     "execution_count": 104,
     "metadata": {},
     "output_type": "execute_result"
    },
    {
     "data": {
      "image/png": "[encoded data removed]",
      "text/plain": [
       "<Figure size 432x288 with 1 Axes>"
      ]
     },
     "metadata": {
      "needs_background": "light"
     },
     "output_type": "display_data"
    }
   ],
   "source": [
    "import matplotlib.pyplot as plt\n",
    "plt.scatter(X_train,y_train,color=\"r\")\n",
    "plt.scatter(X_test,y_test,color=\"g\")\n",
    "plt.plot(X_train,model.predict(X_train),color=\"b\")\n",
    "\n"
   ]
  },
  {
   "cell_type": "code",
   "execution_count": 99,
   "metadata": {},
   "outputs": [
    {
     "name": "stdout",
     "output_type": "stream",
     "text": [
      "China ~ UK\n"
     ]
    },
    {
     "data": {
      "text/html": [
       "<table class=\"simpletable\">\n",
       "<caption>OLS Regression Results</caption>\n",
       "<tr>\n",
       "  <th>Dep. Variable:</th>          <td>China</td>      <th>  R-squared:         </th> <td>   0.000</td> \n",
       "</tr>\n",
       "<tr>\n",
       "  <th>Model:</th>                   <td>OLS</td>       <th>  Adj. R-squared:    </th> <td>   0.000</td> \n",
       "</tr>\n",
       "<tr>\n",
       "  <th>Method:</th>             <td>Least Squares</td>  <th>  F-statistic:       </th> <td>   1.354</td> \n",
       "</tr>\n",
       "<tr>\n",
       "  <th>Date:</th>             <td>Wed, 03 Aug 2022</td> <th>  Prob (F-statistic):</th>  <td> 0.245</td>  \n",
       "</tr>\n",
       "<tr>\n",
       "  <th>Time:</th>                 <td>06:56:10</td>     <th>  Log-Likelihood:    </th> <td> -20080.</td> \n",
       "</tr>\n",
       "<tr>\n",
       "  <th>No. Observations:</th>      <td>  9148</td>      <th>  AIC:               </th> <td>4.016e+04</td>\n",
       "</tr>\n",
       "<tr>\n",
       "  <th>Df Residuals:</th>          <td>  9146</td>      <th>  BIC:               </th> <td>4.018e+04</td>\n",
       "</tr>\n",
       "<tr>\n",
       "  <th>Df Model:</th>              <td>     1</td>      <th>                     </th>     <td> </td>    \n",
       "</tr>\n",
       "<tr>\n",
       "  <th>Covariance Type:</th>      <td>nonrobust</td>    <th>                     </th>     <td> </td>    \n",
       "</tr>\n",
       "</table>\n",
       "<table class=\"simpletable\">\n",
       "<tr>\n",
       "      <td></td>         <th>coef</th>     <th>std err</th>      <th>t</th>      <th>P>|t|</th>  <th>[0.025</th>    <th>0.975]</th>  \n",
       "</tr>\n",
       "<tr>\n",
       "  <th>Intercept</th> <td>    5.9282</td> <td>    0.196</td> <td>   30.246</td> <td> 0.000</td> <td>    5.544</td> <td>    6.312</td>\n",
       "</tr>\n",
       "<tr>\n",
       "  <th>UK</th>        <td>    0.1395</td> <td>    0.120</td> <td>    1.164</td> <td> 0.245</td> <td>   -0.095</td> <td>    0.374</td>\n",
       "</tr>\n",
       "</table>\n",
       "<table class=\"simpletable\">\n",
       "<tr>\n",
       "  <th>Omnibus:</th>       <td>1316.569</td> <th>  Durbin-Watson:     </th> <td>   0.000</td> \n",
       "</tr>\n",
       "<tr>\n",
       "  <th>Prob(Omnibus):</th>  <td> 0.000</td>  <th>  Jarque-Bera (JB):  </th> <td> 973.334</td> \n",
       "</tr>\n",
       "<tr>\n",
       "  <th>Skew:</th>           <td>-0.697</td>  <th>  Prob(JB):          </th> <td>4.40e-212</td>\n",
       "</tr>\n",
       "<tr>\n",
       "  <th>Kurtosis:</th>       <td> 2.219</td>  <th>  Cond. No.          </th> <td>    19.3</td> \n",
       "</tr>\n",
       "</table><br/><br/>Warnings:<br/>[1] Standard Errors assume that the covariance matrix of the errors is correctly specified."
      ],
      "text/plain": [
       "<class 'statsmodels.iolib.summary.Summary'>\n",
       "\"\"\"\n",
       "                            OLS Regression Results                            \n",
       "==============================================================================\n",
       "Dep. Variable:                  China   R-squared:                       0.000\n",
       "Model:                            OLS   Adj. R-squared:                  0.000\n",
       "Method:                 Least Squares   F-statistic:                     1.354\n",
       "Date:                Wed, 03 Aug 2022   Prob (F-statistic):              0.245\n",
       "Time:                        06:56:10   Log-Likelihood:                -20080.\n",
       "No. Observations:                9148   AIC:                         4.016e+04\n",
       "Df Residuals:                    9146   BIC:                         4.018e+04\n",
       "Df Model:                           1                                         \n",
       "Covariance Type:            nonrobust                                         \n",
       "==============================================================================\n",
       "                 coef    std err          t      P>|t|      [0.025      0.975]\n",
       "------------------------------------------------------------------------------\n",
       "Intercept      5.9282      0.196     30.246      0.000       5.544       6.312\n",
       "UK             0.1395      0.120      1.164      0.245      -0.095       0.374\n",
       "==============================================================================\n",
       "Omnibus:                     1316.569   Durbin-Watson:                   0.000\n",
       "Prob(Omnibus):                  0.000   Jarque-Bera (JB):              973.334\n",
       "Skew:                          -0.697   Prob(JB):                    4.40e-212\n",
       "Kurtosis:                       2.219   Cond. No.                         19.3\n",
       "==============================================================================\n",
       "\n",
       "Warnings:\n",
       "[1] Standard Errors assume that the covariance matrix of the errors is correctly specified.\n",
       "\"\"\""
      ]
     },
     "execution_count": 99,
     "metadata": {},
     "output_type": "execute_result"
    }
   ],
   "source": [
    "import statsmodels.formula.api as sm\n",
    "formulaForexchange=columsList[1]+\" ~ \"+ columsList[2]\n",
    "print(formulaForexchange)\n",
    "model =sm.ols(formula=formulaForexchange,data=df_China)\n",
    "result=model.fit()\n",
    "result.summary()"
   ]
  },
  {
   "cell_type": "code",
   "execution_count": 100,
   "metadata": {},
   "outputs": [
    {
     "data": {
      "image/png": "[encoded data removed]",
      "text/plain": [
       "<Figure size 864x576 with 1 Axes>"
      ]
     },
     "metadata": {
      "needs_background": "light"
     },
     "output_type": "display_data"
    }
   ],
   "source": [
    "\n",
    "fig, ax = plt.subplots(figsize=(12, 8))\n",
    "\n",
    "# plot the return for PXD and the model's prediction on the same axes for the date range\n",
    "ax.plot(df_China['China'], label=\"China rates\")\n",
    "ax.plot(result.fittedvalues, \"r--\", label=\"Predicted\")\n",
    "\n",
    "\n",
    "legend = ax.legend(loc=\"best\")\n",
    "plt.xticks(rotation=45)\n",
    "\n",
    "plt.show()"
   ]
  },
  {
   "cell_type": "code",
   "execution_count": null,
   "metadata": {},
   "outputs": [],
   "source": []
  }
 ],
 "metadata": {
  "kernelspec": {
   "display_name": "Python 3",
   "language": "python",
   "name": "python3"
  },
  "language_info": {
   "codemirror_mode": {
    "name": "ipython",
    "version": 3
   },
   "file_extension": ".py",
   "mimetype": "text/x-python",
   "name": "python",
   "nbconvert_exporter": "python",
   "pygments_lexer": "ipython3",
   "version": "3.6.10"
  }
 },
 "nbformat": 4,
 "nbformat_minor": 4
}
